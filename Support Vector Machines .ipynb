{
 "cells": [
  {
   "cell_type": "markdown",
   "id": "830c4c4c",
   "metadata": {},
   "source": [
    "## Setup work's Environment"
   ]
  },
  {
   "cell_type": "code",
   "execution_count": 1,
   "id": "d25fe381",
   "metadata": {},
   "outputs": [],
   "source": [
    "import sys \n",
    "assert sys.version_info >(3,5)\n",
    "import sklearn \n",
    "assert sklearn.__version__>=\"0.20\"\n",
    "\n",
    " # common libraries for data engineering and machine learning tasks\n",
    "\n",
    "import numpy as np\n",
    "import pandas as pd \n",
    "import seaborn as sns\n",
    "import matplotlib as mpl\n",
    "import matplotlib.pyplot as plt \n",
    "import os \n",
    " # ignore warnings\n",
    "    \n",
    "import warnings\n",
    "warnings.filterwarnings('ignore')\n",
    "\n",
    "# rectifying visualistaion's parameters to have pretty plots\n",
    "font={'size': 14,\n",
    "        'weight' : 'bold',\n",
    "        'family':'monospace'} # weight could be book,bold etc ...\n",
    "mpl.rc('font',**font)\n",
    "mpl.rc('axes', labelsize=14)\n",
    "mpl.rc('xtick', labelsize=12)\n",
    "mpl.rc('ytick', labelsize=12)\n",
    "mpl.rc('lines',linewidth=5,c='black')\n",
    "plt.rcParams[\"figure.figsize\"] = (20,9)\n",
    "\n",
    "# # saving visualisation function :\n",
    "def save_fig(fig_id, tight_layout=True, fig_extension=\"png\", resolution=300):\n",
    "    path = os.path.join('/home/dhia/Pictures/', fig_id + \".\" + fig_extension)\n",
    "    print(\"Saving figure\", fig_id)\n",
    "    if tight_layout:\n",
    "        plt.tight_layout()\n",
    "    plt.savefig(path, format=fig_extension, dpi=resolution)"
   ]
  },
  {
   "cell_type": "code",
   "execution_count": 2,
   "id": "51490a82",
   "metadata": {},
   "outputs": [],
   "source": [
    "from sklearn import datasets\n",
    "from sklearn.svm import SVC\n",
    "from sklearn.svm import LinearSVR\n"
   ]
  },
  {
   "cell_type": "code",
   "execution_count": null,
   "id": "5ea24a30",
   "metadata": {},
   "outputs": [],
   "source": []
  }
 ],
 "metadata": {
  "kernelspec": {
   "display_name": "Python 3 (ipykernel)",
   "language": "python",
   "name": "python3"
  },
  "language_info": {
   "codemirror_mode": {
    "name": "ipython",
    "version": 3
   },
   "file_extension": ".py",
   "mimetype": "text/x-python",
   "name": "python",
   "nbconvert_exporter": "python",
   "pygments_lexer": "ipython3",
   "version": "3.7.10"
  }
 },
 "nbformat": 4,
 "nbformat_minor": 5
}
